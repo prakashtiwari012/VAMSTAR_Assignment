{
 "cells": [
  {
   "cell_type": "code",
   "execution_count": 81,
   "id": "2a13fbc3",
   "metadata": {},
   "outputs": [],
   "source": [
    "import pandas as pd\n",
    "import numpy as np\n",
    "import json\n",
    "from datetime import datetime"
   ]
  },
  {
   "cell_type": "code",
   "execution_count": 82,
   "id": "0c39dcb3",
   "metadata": {},
   "outputs": [],
   "source": [
    "def calculate_BMI_RISK(df,df_BMI_category):\n",
    "    df['Heightmeter']=df.HeightCm/100\n",
    "    df['BMI']=df.WeightKg/(df.Heightmeter*df.Heightmeter)\n",
    "    df['BMI']=df.BMI.round(decimals=1)\n",
    "    x=df.merge(df_BMI_category, how='cross')\n",
    "    x=x[(x.BMI>=x.bmi_lower) & (x.BMI<=x.bmi_upper)]\n",
    "    return x[['Gender','HeightCm','WeightKg','BMI','bmi_category','health_risk']]"
   ]
  },
  {
   "cell_type": "code",
   "execution_count": 83,
   "id": "65b68bb7",
   "metadata": {},
   "outputs": [],
   "source": [
    "# This could read data in millions\n",
    "df= pd.read_json('data.json')\n",
    "df_BMI_category=pd.read_csv('BMI_category.csv')\n",
    "datetime_now= datetime.now()\n",
    "file_name='final_results_'+ str(datetime_now)[0:10]+'.csv'\n",
    "calculate_BMI_RISK(df,df_BMI_category).to_csv(file_name,index=False)"
   ]
  },
  {
   "cell_type": "code",
   "execution_count": null,
   "id": "6d62bbdf",
   "metadata": {},
   "outputs": [],
   "source": []
  },
  {
   "cell_type": "code",
   "execution_count": null,
   "id": "563b4f3c",
   "metadata": {},
   "outputs": [],
   "source": []
  },
  {
   "cell_type": "code",
   "execution_count": null,
   "id": "f359ba67",
   "metadata": {},
   "outputs": [],
   "source": []
  }
 ],
 "metadata": {
  "kernelspec": {
   "display_name": "Python 3 (ipykernel)",
   "language": "python",
   "name": "python3"
  },
  "language_info": {
   "codemirror_mode": {
    "name": "ipython",
    "version": 3
   },
   "file_extension": ".py",
   "mimetype": "text/x-python",
   "name": "python",
   "nbconvert_exporter": "python",
   "pygments_lexer": "ipython3",
   "version": "3.9.7"
  }
 },
 "nbformat": 4,
 "nbformat_minor": 5
}
